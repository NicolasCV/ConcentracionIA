{
  "cells": [
    {
      "cell_type": "markdown",
      "id": "44509e0a",
      "metadata": {
        "id": "44509e0a"
      },
      "source": [
        "![Python_logo](https://www.python.org/static/community_logos/python-logo-master-v3-TM.png)\n",
        "\n",
        "\n",
        "   # **Cortex Game: Round1--Amount**"
      ]
    },
    {
      "cell_type": "markdown",
      "id": "e6bf1264-7b5f-4f0e-a622-c308e40cb8be",
      "metadata": {
        "id": "e6bf1264-7b5f-4f0e-a622-c308e40cb8be"
      },
      "source": [
        "> Before playing the game, you need to connect to SASPy first.\n",
        ">\n",
        ">> If it is your first time, please follow the 4 steps mentioned below!"
      ]
    },
    {
      "cell_type": "markdown",
      "id": "d1a48e10-b624-4430-9cd1-25869d600d71",
      "metadata": {
        "id": "d1a48e10-b624-4430-9cd1-25869d600d71"
      },
      "source": [
        "***\n",
        "## **Connect to SASPy**"
      ]
    },
    {
      "cell_type": "markdown",
      "source": [
        "**0- Connect to your Google Drive folder**"
      ],
      "metadata": {
        "id": "wgW_D1kOY6d6"
      },
      "id": "wgW_D1kOY6d6"
    },
    {
      "cell_type": "code",
      "source": [
        "my_folder = \"/content/drive/MyDrive/SAS\"\n",
        "\n",
        "from google.colab import drive\n",
        "drive.mount('/content/drive')\n",
        "\n",
        "import pandas as pd\n",
        "\n",
        "# Change the following code to set your Drive folder\n",
        "import os\n",
        "os.chdir(my_folder)\n",
        "!pwd"
      ],
      "metadata": {
        "colab": {
          "base_uri": "https://localhost:8080/"
        },
        "id": "EqAV8e1WY45k",
        "outputId": "9f5b3665-0d63-4613-bf82-3eaf68099b62"
      },
      "id": "EqAV8e1WY45k",
      "execution_count": 26,
      "outputs": [
        {
          "output_type": "stream",
          "name": "stdout",
          "text": [
            "Drive already mounted at /content/drive; to attempt to forcibly remount, call drive.mount(\"/content/drive\", force_remount=True).\n",
            "/content/drive/MyDrive/SAS\n"
          ]
        }
      ]
    },
    {
      "cell_type": "markdown",
      "id": "ec889f32",
      "metadata": {
        "id": "ec889f32"
      },
      "source": [
        "**1- Make sure that your Python version is 3.3 or higher as well as your Java version is 1.8.0_162 or higher**"
      ]
    },
    {
      "cell_type": "code",
      "execution_count": 27,
      "id": "6d369a1a",
      "metadata": {
        "collapsed": true,
        "colab": {
          "base_uri": "https://localhost:8080/"
        },
        "id": "6d369a1a",
        "outputId": "6745e8f7-0500-4ff3-a546-70d7a71806dc"
      },
      "outputs": [
        {
          "output_type": "stream",
          "name": "stdout",
          "text": [
            "Python is at /usr/local/bin/python\n",
            "Python 3.7.15\n"
          ]
        }
      ],
      "source": [
        "!echo \"Python is at\" $(which python)\n",
        "!python --version"
      ]
    },
    {
      "cell_type": "code",
      "source": [
        "!echo \"Java is at\" $(which java)\n",
        "!/usr/bin/java -version"
      ],
      "metadata": {
        "colab": {
          "base_uri": "https://localhost:8080/"
        },
        "id": "iNG5tchbZn5m",
        "outputId": "70057044-e48d-4b67-9fc1-3435ddac6ab5"
      },
      "id": "iNG5tchbZn5m",
      "execution_count": 28,
      "outputs": [
        {
          "output_type": "stream",
          "name": "stdout",
          "text": [
            "Java is at /usr/bin/java\n",
            "openjdk version \"11.0.17\" 2022-10-18\n",
            "OpenJDK Runtime Environment (build 11.0.17+8-post-Ubuntu-1ubuntu218.04)\n",
            "OpenJDK 64-Bit Server VM (build 11.0.17+8-post-Ubuntu-1ubuntu218.04, mixed mode, sharing)\n"
          ]
        }
      ]
    },
    {
      "cell_type": "markdown",
      "id": "10e73c6f",
      "metadata": {
        "id": "10e73c6f"
      },
      "source": [
        "**2- Install SASPy**"
      ]
    },
    {
      "cell_type": "code",
      "execution_count": 29,
      "id": "1c053af0",
      "metadata": {
        "collapsed": true,
        "colab": {
          "base_uri": "https://localhost:8080/"
        },
        "id": "1c053af0",
        "outputId": "f9b87f2e-7bbc-424b-c7d0-f1298d83cc3d"
      },
      "outputs": [
        {
          "output_type": "stream",
          "name": "stdout",
          "text": [
            "Looking in indexes: https://pypi.org/simple, https://us-python.pkg.dev/colab-wheels/public/simple/\n",
            "Requirement already satisfied: saspy in /usr/local/lib/python3.7/dist-packages (4.4.1)\n"
          ]
        }
      ],
      "source": [
        "!pip install saspy"
      ]
    },
    {
      "cell_type": "markdown",
      "id": "9fb501a5",
      "metadata": {
        "id": "9fb501a5"
      },
      "source": [
        "**3- Create the configuration file \"sascfg_personal.py\"**\n",
        "Please, check that your Home Region is correct, you can check it at [ODA-SAS](https://welcome.oda.sas.com/home)"
      ]
    },
    {
      "cell_type": "code",
      "execution_count": 30,
      "id": "c1a441c5-17c6-4818-841a-b87cf9a864f8",
      "metadata": {
        "collapsed": true,
        "tags": [],
        "colab": {
          "base_uri": "https://localhost:8080/"
        },
        "id": "c1a441c5-17c6-4818-841a-b87cf9a864f8",
        "outputId": "8e7b1a5e-a14d-4009-bb8a-0efa55a68202"
      },
      "outputs": [
        {
          "output_type": "stream",
          "name": "stdout",
          "text": [
            "Overwriting sascfg_personal.py\n"
          ]
        }
      ],
      "source": [
        "%%writefile sascfg_personal.py\n",
        "SAS_config_names=['oda']\n",
        "oda = {'java' : '/usr/bin/java',\n",
        "#US Home Region 1\n",
        "#'iomhost' : ['odaws01-usw2.oda.sas.com','odaws02-usw2.oda.sas.com','odaws03-usw2.oda.sas.com','odaws04-usw2.oda.sas.com'],\n",
        "#US Home Region 2\n",
        "'iomhost' : ['odaws01-usw2-2.oda.sas.com','odaws02-usw2-2.oda.sas.com'],\n",
        "#European Home Region 1\n",
        "#'iomhost' : ['odaws01-euw1.oda.sas.com','odaws02-euw1.oda.sas.com'],\n",
        "#Asia Pacific Home Region 1\n",
        "#'iomhost' : ['odaws01-apse1.oda.sas.com','odaws02-apse1.oda.sas.com'],\n",
        "#Asia Pacific Home Region 2\n",
        "#'iomhost' : ['odaws01-apse1-2.oda.sas.com','odaws02-apse1-2.oda.sas.com'],\n",
        "'iomport' : 8591,\n",
        "'authkey' : 'oda',\n",
        "'encoding' : 'utf-8'\n",
        "}"
      ]
    },
    {
      "cell_type": "markdown",
      "source": [
        "**4- Create your .authinfo**"
      ],
      "metadata": {
        "id": "nQ_YzHeRaWH8"
      },
      "id": "nQ_YzHeRaWH8"
    },
    {
      "cell_type": "markdown",
      "source": [
        "If there is no .authinfo file, you can create this"
      ],
      "metadata": {
        "id": "-RZAKpvL_eFC"
      },
      "id": "-RZAKpvL_eFC"
    },
    {
      "cell_type": "code",
      "source": [
        "%%writefile .authinfo\n",
        "oda user a01114959@tec.mx password Mcrules123-"
      ],
      "metadata": {
        "id": "XZ4wlGJ2aT71",
        "colab": {
          "base_uri": "https://localhost:8080/"
        },
        "outputId": "1ad82a97-12c1-47e7-b0c5-1d2e019a998e"
      },
      "id": "XZ4wlGJ2aT71",
      "execution_count": 31,
      "outputs": [
        {
          "output_type": "stream",
          "name": "stdout",
          "text": [
            "Overwriting .authinfo\n"
          ]
        }
      ]
    },
    {
      "cell_type": "markdown",
      "source": [
        "Copy this file to home"
      ],
      "metadata": {
        "id": "001tNy2D_gA0"
      },
      "id": "001tNy2D_gA0"
    },
    {
      "cell_type": "code",
      "source": [
        "!cp .authinfo ~/.authinfo"
      ],
      "metadata": {
        "id": "KeduVWzNSoLr"
      },
      "id": "KeduVWzNSoLr",
      "execution_count": 32,
      "outputs": []
    },
    {
      "cell_type": "markdown",
      "id": "11efebd8",
      "metadata": {
        "id": "11efebd8"
      },
      "source": [
        "**5- Establish Connection (Need to do this step each time you use SASPy)**"
      ]
    },
    {
      "cell_type": "code",
      "execution_count": 33,
      "id": "413ecaba",
      "metadata": {
        "collapsed": true,
        "colab": {
          "base_uri": "https://localhost:8080/"
        },
        "id": "413ecaba",
        "outputId": "5a1a128b-2b83-4a49-adfb-41a764b06fa6"
      },
      "outputs": [
        {
          "output_type": "stream",
          "name": "stdout",
          "text": [
            "Using SAS Config named: oda\n",
            "SAS Connection established. Subprocess id is 1463\n",
            "\n"
          ]
        },
        {
          "output_type": "execute_result",
          "data": {
            "text/plain": [
              "Access Method         = IOM\n",
              "SAS Config name       = oda\n",
              "SAS Config file       = /content/drive/MyDrive/SAS/sascfg_personal.py\n",
              "WORK Path             = /saswork/SAS_work69A900011C3D_odaws02-usw2-2.oda.sas.com/SAS_workEA7B00011C3D_odaws02-usw2-2.oda.sas.com/\n",
              "SAS Version           = 9.04.01M6P11072018\n",
              "SASPy Version         = 4.4.1\n",
              "Teach me SAS          = False\n",
              "Batch                 = False\n",
              "Results               = Pandas\n",
              "SAS Session Encoding  = utf-8\n",
              "Python Encoding value = utf-8\n",
              "SAS process Pid value = 72765\n"
            ]
          },
          "metadata": {},
          "execution_count": 33
        }
      ],
      "source": [
        "import saspy\n",
        "sas_session = saspy.SASsession(cfgfile=os.path.join(\n",
        "    my_folder,\"sascfg_personal.py\"))\n",
        "sas_session"
      ]
    },
    {
      "cell_type": "markdown",
      "id": "719fb2db-4238-4892-aab6-757f696ccd57",
      "metadata": {
        "id": "719fb2db-4238-4892-aab6-757f696ccd57"
      },
      "source": [
        "***\n",
        "## Connect to Cortex Data Sets"
      ]
    },
    {
      "cell_type": "markdown",
      "id": "a9e40645",
      "metadata": {
        "id": "a9e40645"
      },
      "source": [
        "Load Cortex datasets from SAS Studio"
      ]
    },
    {
      "cell_type": "code",
      "source": [
        "ps = sas_session.submit(\"\"\"\n",
        "    libname cortex '~/my_shared_file_links/u39842936/Cortex Data Sets';\n",
        "    \"\"\")\n",
        "print(ps[\"LOG\"])"
      ],
      "metadata": {
        "colab": {
          "base_uri": "https://localhost:8080/"
        },
        "id": "e0OUk4FSX32H",
        "outputId": "f20aac1e-e0b5-41a3-faac-26d55534bd32"
      },
      "id": "e0OUk4FSX32H",
      "execution_count": 34,
      "outputs": [
        {
          "output_type": "stream",
          "name": "stdout",
          "text": [
            "\n",
            "5                                                          The SAS System                      Friday, December  2, 2022 07:09:00 PM\n",
            "\n",
            "24         ods listing close;ods html5 (id=saspy_internal) file=_tomods1 options(bitmap_mode='inline') device=svg style=HTMLBlue;\n",
            "24       ! ods graphics on / outputfmt=png;\n",
            "25         \n",
            "26         \n",
            "27             libname cortex '~/my_shared_file_links/u39842936/Cortex Data Sets';\n",
            "28         \n",
            "29         \n",
            "30         \n",
            "31         ods html5 (id=saspy_internal) close;ods listing;\n",
            "32         \n",
            "\n",
            "6                                                          The SAS System                      Friday, December  2, 2022 07:09:00 PM\n",
            "\n",
            "33         \n"
          ]
        }
      ]
    },
    {
      "cell_type": "markdown",
      "id": "d86a874a",
      "metadata": {
        "id": "d86a874a"
      },
      "source": [
        "## START\n"
      ]
    },
    {
      "cell_type": "code",
      "source": [
        "data1 = sas_session.sasdata2dataframe(\n",
        "table='hist',\n",
        "libref='cortex'\n",
        ")\n",
        "\n",
        "data_td2 = sas_session.sasdata2dataframe(\n",
        "table='target_rd2',\n",
        "libref='cortex'\n",
        ")"
      ],
      "metadata": {
        "id": "49juwRvmmCIY"
      },
      "id": "49juwRvmmCIY",
      "execution_count": 35,
      "outputs": []
    },
    {
      "cell_type": "code",
      "source": [
        "data_merge2 = pd.merge(data1, data_td2, on=[\"ID\"],how=\"right\")\n",
        "data_merge2 = data_merge2.loc[(data_merge2['GaveThisYear'] == 1)]\n",
        "\n",
        "data_merge2[['MinGift', 'Frequency','TotalGift','MaxGift']] = data_merge2[['MinGift', 'Frequency','TotalGift','MaxGift']].fillna(value=0)\n",
        "data_merge2[['Recency','Seniority']] = data_merge2[['Recency','Seniority']].fillna(value=10)\n",
        "\n",
        "data_merge2.corr()"
      ],
      "metadata": {
        "id": "RblxO4731Pgn",
        "colab": {
          "base_uri": "https://localhost:8080/",
          "height": 718
        },
        "outputId": "c2cae1b2-8c6e-4a89-a0b2-f52b9efc7446"
      },
      "id": "RblxO4731Pgn",
      "execution_count": 36,
      "outputs": [
        {
          "output_type": "stream",
          "name": "stderr",
          "text": [
            "/usr/local/lib/python3.7/dist-packages/pandas/core/frame.py:3641: SettingWithCopyWarning: \n",
            "A value is trying to be set on a copy of a slice from a DataFrame.\n",
            "Try using .loc[row_indexer,col_indexer] = value instead\n",
            "\n",
            "See the caveats in the documentation: https://pandas.pydata.org/pandas-docs/stable/user_guide/indexing.html#returning-a-view-versus-a-copy\n",
            "  self[k1] = value[k2]\n"
          ]
        },
        {
          "output_type": "execute_result",
          "data": {
            "text/plain": [
              "                    ID     Woman       Age    Salary  SeniorList  \\\n",
              "ID            1.000000 -0.004276 -0.008712 -0.004636    0.003979   \n",
              "Woman        -0.004276  1.000000  0.032079 -0.054439    0.001698   \n",
              "Age          -0.008712  0.032079  1.000000  0.031511   -0.002698   \n",
              "Salary       -0.004636 -0.054439  0.031511  1.000000   -0.006253   \n",
              "SeniorList    0.003979  0.001698 -0.002698 -0.006253    1.000000   \n",
              "NbActivities  0.005697 -0.004229  0.011257  0.002903    0.524657   \n",
              "Referrals     0.001076 -0.007491  0.008921  0.004151    0.488871   \n",
              "Recency      -0.003158  0.013534 -0.011151 -0.007022   -0.422422   \n",
              "Frequency     0.003361 -0.011461  0.012012  0.007283    0.526608   \n",
              "Seniority    -0.001960  0.011514 -0.008089 -0.004526   -0.218919   \n",
              "TotalGift     0.000336  0.039423 -0.033188  0.059340    0.178189   \n",
              "MinGift      -0.002909  0.019223 -0.018302  0.030983    0.067948   \n",
              "MaxGift       0.000276  0.039461 -0.033824  0.057719    0.140924   \n",
              "GaveLastYear  0.000409 -0.011307  0.011648  0.009253    0.006976   \n",
              "AmtLastYear  -0.001091  0.016610 -0.016480  0.031044    0.003274   \n",
              "Contact      -0.003065  0.095114 -0.094376 -0.039594   -0.087352   \n",
              "GaveThisYear       NaN       NaN       NaN       NaN         NaN   \n",
              "AmtThisYear  -0.000189  0.043386 -0.038916  0.067602    0.004176   \n",
              "\n",
              "              NbActivities  Referrals   Recency  Frequency  Seniority  \\\n",
              "ID                0.005697   0.001076 -0.003158   0.003361  -0.001960   \n",
              "Woman            -0.004229  -0.007491  0.013534  -0.011461   0.011514   \n",
              "Age               0.011257   0.008921 -0.011151   0.012012  -0.008089   \n",
              "Salary            0.002903   0.004151 -0.007022   0.007283  -0.004526   \n",
              "SeniorList        0.524657   0.488871 -0.422422   0.526608  -0.218919   \n",
              "NbActivities      1.000000   0.590529 -0.457680   0.636571  -0.207526   \n",
              "Referrals         0.590529   1.000000 -0.426159   0.591733  -0.193516   \n",
              "Recency          -0.457680  -0.426159  1.000000  -0.767812   0.868188   \n",
              "Frequency         0.636571   0.591733 -0.767812   1.000000  -0.407418   \n",
              "Seniority        -0.207526  -0.193516  0.868188  -0.407418   1.000000   \n",
              "TotalGift         0.220759   0.203751 -0.267863   0.349846  -0.140914   \n",
              "MinGift           0.046283   0.042802 -0.169364   0.068588  -0.205013   \n",
              "MaxGift           0.165257   0.152905 -0.226158   0.262133  -0.141068   \n",
              "GaveLastYear      0.175988   0.162628 -0.144498   0.174019  -0.090326   \n",
              "AmtLastYear       0.045125   0.039388 -0.036033   0.042991  -0.021783   \n",
              "Contact          -0.129571  -0.121569  0.156456  -0.137044   0.120902   \n",
              "GaveThisYear           NaN        NaN       NaN        NaN        NaN   \n",
              "AmtThisYear       0.016713   0.014993 -0.013498   0.015772  -0.006971   \n",
              "\n",
              "              TotalGift   MinGift   MaxGift  GaveLastYear  AmtLastYear  \\\n",
              "ID             0.000336 -0.002909  0.000276      0.000409    -0.001091   \n",
              "Woman          0.039423  0.019223  0.039461     -0.011307     0.016610   \n",
              "Age           -0.033188 -0.018302 -0.033824      0.011648    -0.016480   \n",
              "Salary         0.059340  0.030983  0.057719      0.009253     0.031044   \n",
              "SeniorList     0.178189  0.067948  0.140924      0.006976     0.003274   \n",
              "NbActivities   0.220759  0.046283  0.165257      0.175988     0.045125   \n",
              "Referrals      0.203751  0.042802  0.152905      0.162628     0.039388   \n",
              "Recency       -0.267863 -0.169364 -0.226158     -0.144498    -0.036033   \n",
              "Frequency      0.349846  0.068588  0.262133      0.174019     0.042991   \n",
              "Seniority     -0.140914 -0.205013 -0.141068     -0.090326    -0.021783   \n",
              "TotalGift      1.000000  0.440711  0.984625      0.062446     0.023536   \n",
              "MinGift        0.440711  1.000000  0.471593      0.012596     0.006240   \n",
              "MaxGift        0.984625  0.471593  1.000000      0.046827     0.018374   \n",
              "GaveLastYear   0.062446  0.012596  0.046827      1.000000     0.228017   \n",
              "AmtLastYear    0.023536  0.006240  0.018374      0.228017     1.000000   \n",
              "Contact       -0.041552 -0.020821 -0.032343     -0.052576    -0.011825   \n",
              "GaveThisYear        NaN       NaN       NaN           NaN          NaN   \n",
              "AmtThisYear    0.031324  0.013452  0.029789      0.009698     0.012021   \n",
              "\n",
              "               Contact  GaveThisYear  AmtThisYear  \n",
              "ID           -0.003065           NaN    -0.000189  \n",
              "Woman         0.095114           NaN     0.043386  \n",
              "Age          -0.094376           NaN    -0.038916  \n",
              "Salary       -0.039594           NaN     0.067602  \n",
              "SeniorList   -0.087352           NaN     0.004176  \n",
              "NbActivities -0.129571           NaN     0.016713  \n",
              "Referrals    -0.121569           NaN     0.014993  \n",
              "Recency       0.156456           NaN    -0.013498  \n",
              "Frequency    -0.137044           NaN     0.015772  \n",
              "Seniority     0.120902           NaN    -0.006971  \n",
              "TotalGift    -0.041552           NaN     0.031324  \n",
              "MinGift      -0.020821           NaN     0.013452  \n",
              "MaxGift      -0.032343           NaN     0.029789  \n",
              "GaveLastYear -0.052576           NaN     0.009698  \n",
              "AmtLastYear  -0.011825           NaN     0.012021  \n",
              "Contact       1.000000           NaN    -0.000929  \n",
              "GaveThisYear       NaN           NaN          NaN  \n",
              "AmtThisYear  -0.000929           NaN     1.000000  "
            ],
            "text/html": [
              "\n",
              "  <div id=\"df-36c5b6bd-ba67-431e-a167-0fa39808c937\">\n",
              "    <div class=\"colab-df-container\">\n",
              "      <div>\n",
              "<style scoped>\n",
              "    .dataframe tbody tr th:only-of-type {\n",
              "        vertical-align: middle;\n",
              "    }\n",
              "\n",
              "    .dataframe tbody tr th {\n",
              "        vertical-align: top;\n",
              "    }\n",
              "\n",
              "    .dataframe thead th {\n",
              "        text-align: right;\n",
              "    }\n",
              "</style>\n",
              "<table border=\"1\" class=\"dataframe\">\n",
              "  <thead>\n",
              "    <tr style=\"text-align: right;\">\n",
              "      <th></th>\n",
              "      <th>ID</th>\n",
              "      <th>Woman</th>\n",
              "      <th>Age</th>\n",
              "      <th>Salary</th>\n",
              "      <th>SeniorList</th>\n",
              "      <th>NbActivities</th>\n",
              "      <th>Referrals</th>\n",
              "      <th>Recency</th>\n",
              "      <th>Frequency</th>\n",
              "      <th>Seniority</th>\n",
              "      <th>TotalGift</th>\n",
              "      <th>MinGift</th>\n",
              "      <th>MaxGift</th>\n",
              "      <th>GaveLastYear</th>\n",
              "      <th>AmtLastYear</th>\n",
              "      <th>Contact</th>\n",
              "      <th>GaveThisYear</th>\n",
              "      <th>AmtThisYear</th>\n",
              "    </tr>\n",
              "  </thead>\n",
              "  <tbody>\n",
              "    <tr>\n",
              "      <th>ID</th>\n",
              "      <td>1.000000</td>\n",
              "      <td>-0.004276</td>\n",
              "      <td>-0.008712</td>\n",
              "      <td>-0.004636</td>\n",
              "      <td>0.003979</td>\n",
              "      <td>0.005697</td>\n",
              "      <td>0.001076</td>\n",
              "      <td>-0.003158</td>\n",
              "      <td>0.003361</td>\n",
              "      <td>-0.001960</td>\n",
              "      <td>0.000336</td>\n",
              "      <td>-0.002909</td>\n",
              "      <td>0.000276</td>\n",
              "      <td>0.000409</td>\n",
              "      <td>-0.001091</td>\n",
              "      <td>-0.003065</td>\n",
              "      <td>NaN</td>\n",
              "      <td>-0.000189</td>\n",
              "    </tr>\n",
              "    <tr>\n",
              "      <th>Woman</th>\n",
              "      <td>-0.004276</td>\n",
              "      <td>1.000000</td>\n",
              "      <td>0.032079</td>\n",
              "      <td>-0.054439</td>\n",
              "      <td>0.001698</td>\n",
              "      <td>-0.004229</td>\n",
              "      <td>-0.007491</td>\n",
              "      <td>0.013534</td>\n",
              "      <td>-0.011461</td>\n",
              "      <td>0.011514</td>\n",
              "      <td>0.039423</td>\n",
              "      <td>0.019223</td>\n",
              "      <td>0.039461</td>\n",
              "      <td>-0.011307</td>\n",
              "      <td>0.016610</td>\n",
              "      <td>0.095114</td>\n",
              "      <td>NaN</td>\n",
              "      <td>0.043386</td>\n",
              "    </tr>\n",
              "    <tr>\n",
              "      <th>Age</th>\n",
              "      <td>-0.008712</td>\n",
              "      <td>0.032079</td>\n",
              "      <td>1.000000</td>\n",
              "      <td>0.031511</td>\n",
              "      <td>-0.002698</td>\n",
              "      <td>0.011257</td>\n",
              "      <td>0.008921</td>\n",
              "      <td>-0.011151</td>\n",
              "      <td>0.012012</td>\n",
              "      <td>-0.008089</td>\n",
              "      <td>-0.033188</td>\n",
              "      <td>-0.018302</td>\n",
              "      <td>-0.033824</td>\n",
              "      <td>0.011648</td>\n",
              "      <td>-0.016480</td>\n",
              "      <td>-0.094376</td>\n",
              "      <td>NaN</td>\n",
              "      <td>-0.038916</td>\n",
              "    </tr>\n",
              "    <tr>\n",
              "      <th>Salary</th>\n",
              "      <td>-0.004636</td>\n",
              "      <td>-0.054439</td>\n",
              "      <td>0.031511</td>\n",
              "      <td>1.000000</td>\n",
              "      <td>-0.006253</td>\n",
              "      <td>0.002903</td>\n",
              "      <td>0.004151</td>\n",
              "      <td>-0.007022</td>\n",
              "      <td>0.007283</td>\n",
              "      <td>-0.004526</td>\n",
              "      <td>0.059340</td>\n",
              "      <td>0.030983</td>\n",
              "      <td>0.057719</td>\n",
              "      <td>0.009253</td>\n",
              "      <td>0.031044</td>\n",
              "      <td>-0.039594</td>\n",
              "      <td>NaN</td>\n",
              "      <td>0.067602</td>\n",
              "    </tr>\n",
              "    <tr>\n",
              "      <th>SeniorList</th>\n",
              "      <td>0.003979</td>\n",
              "      <td>0.001698</td>\n",
              "      <td>-0.002698</td>\n",
              "      <td>-0.006253</td>\n",
              "      <td>1.000000</td>\n",
              "      <td>0.524657</td>\n",
              "      <td>0.488871</td>\n",
              "      <td>-0.422422</td>\n",
              "      <td>0.526608</td>\n",
              "      <td>-0.218919</td>\n",
              "      <td>0.178189</td>\n",
              "      <td>0.067948</td>\n",
              "      <td>0.140924</td>\n",
              "      <td>0.006976</td>\n",
              "      <td>0.003274</td>\n",
              "      <td>-0.087352</td>\n",
              "      <td>NaN</td>\n",
              "      <td>0.004176</td>\n",
              "    </tr>\n",
              "    <tr>\n",
              "      <th>NbActivities</th>\n",
              "      <td>0.005697</td>\n",
              "      <td>-0.004229</td>\n",
              "      <td>0.011257</td>\n",
              "      <td>0.002903</td>\n",
              "      <td>0.524657</td>\n",
              "      <td>1.000000</td>\n",
              "      <td>0.590529</td>\n",
              "      <td>-0.457680</td>\n",
              "      <td>0.636571</td>\n",
              "      <td>-0.207526</td>\n",
              "      <td>0.220759</td>\n",
              "      <td>0.046283</td>\n",
              "      <td>0.165257</td>\n",
              "      <td>0.175988</td>\n",
              "      <td>0.045125</td>\n",
              "      <td>-0.129571</td>\n",
              "      <td>NaN</td>\n",
              "      <td>0.016713</td>\n",
              "    </tr>\n",
              "    <tr>\n",
              "      <th>Referrals</th>\n",
              "      <td>0.001076</td>\n",
              "      <td>-0.007491</td>\n",
              "      <td>0.008921</td>\n",
              "      <td>0.004151</td>\n",
              "      <td>0.488871</td>\n",
              "      <td>0.590529</td>\n",
              "      <td>1.000000</td>\n",
              "      <td>-0.426159</td>\n",
              "      <td>0.591733</td>\n",
              "      <td>-0.193516</td>\n",
              "      <td>0.203751</td>\n",
              "      <td>0.042802</td>\n",
              "      <td>0.152905</td>\n",
              "      <td>0.162628</td>\n",
              "      <td>0.039388</td>\n",
              "      <td>-0.121569</td>\n",
              "      <td>NaN</td>\n",
              "      <td>0.014993</td>\n",
              "    </tr>\n",
              "    <tr>\n",
              "      <th>Recency</th>\n",
              "      <td>-0.003158</td>\n",
              "      <td>0.013534</td>\n",
              "      <td>-0.011151</td>\n",
              "      <td>-0.007022</td>\n",
              "      <td>-0.422422</td>\n",
              "      <td>-0.457680</td>\n",
              "      <td>-0.426159</td>\n",
              "      <td>1.000000</td>\n",
              "      <td>-0.767812</td>\n",
              "      <td>0.868188</td>\n",
              "      <td>-0.267863</td>\n",
              "      <td>-0.169364</td>\n",
              "      <td>-0.226158</td>\n",
              "      <td>-0.144498</td>\n",
              "      <td>-0.036033</td>\n",
              "      <td>0.156456</td>\n",
              "      <td>NaN</td>\n",
              "      <td>-0.013498</td>\n",
              "    </tr>\n",
              "    <tr>\n",
              "      <th>Frequency</th>\n",
              "      <td>0.003361</td>\n",
              "      <td>-0.011461</td>\n",
              "      <td>0.012012</td>\n",
              "      <td>0.007283</td>\n",
              "      <td>0.526608</td>\n",
              "      <td>0.636571</td>\n",
              "      <td>0.591733</td>\n",
              "      <td>-0.767812</td>\n",
              "      <td>1.000000</td>\n",
              "      <td>-0.407418</td>\n",
              "      <td>0.349846</td>\n",
              "      <td>0.068588</td>\n",
              "      <td>0.262133</td>\n",
              "      <td>0.174019</td>\n",
              "      <td>0.042991</td>\n",
              "      <td>-0.137044</td>\n",
              "      <td>NaN</td>\n",
              "      <td>0.015772</td>\n",
              "    </tr>\n",
              "    <tr>\n",
              "      <th>Seniority</th>\n",
              "      <td>-0.001960</td>\n",
              "      <td>0.011514</td>\n",
              "      <td>-0.008089</td>\n",
              "      <td>-0.004526</td>\n",
              "      <td>-0.218919</td>\n",
              "      <td>-0.207526</td>\n",
              "      <td>-0.193516</td>\n",
              "      <td>0.868188</td>\n",
              "      <td>-0.407418</td>\n",
              "      <td>1.000000</td>\n",
              "      <td>-0.140914</td>\n",
              "      <td>-0.205013</td>\n",
              "      <td>-0.141068</td>\n",
              "      <td>-0.090326</td>\n",
              "      <td>-0.021783</td>\n",
              "      <td>0.120902</td>\n",
              "      <td>NaN</td>\n",
              "      <td>-0.006971</td>\n",
              "    </tr>\n",
              "    <tr>\n",
              "      <th>TotalGift</th>\n",
              "      <td>0.000336</td>\n",
              "      <td>0.039423</td>\n",
              "      <td>-0.033188</td>\n",
              "      <td>0.059340</td>\n",
              "      <td>0.178189</td>\n",
              "      <td>0.220759</td>\n",
              "      <td>0.203751</td>\n",
              "      <td>-0.267863</td>\n",
              "      <td>0.349846</td>\n",
              "      <td>-0.140914</td>\n",
              "      <td>1.000000</td>\n",
              "      <td>0.440711</td>\n",
              "      <td>0.984625</td>\n",
              "      <td>0.062446</td>\n",
              "      <td>0.023536</td>\n",
              "      <td>-0.041552</td>\n",
              "      <td>NaN</td>\n",
              "      <td>0.031324</td>\n",
              "    </tr>\n",
              "    <tr>\n",
              "      <th>MinGift</th>\n",
              "      <td>-0.002909</td>\n",
              "      <td>0.019223</td>\n",
              "      <td>-0.018302</td>\n",
              "      <td>0.030983</td>\n",
              "      <td>0.067948</td>\n",
              "      <td>0.046283</td>\n",
              "      <td>0.042802</td>\n",
              "      <td>-0.169364</td>\n",
              "      <td>0.068588</td>\n",
              "      <td>-0.205013</td>\n",
              "      <td>0.440711</td>\n",
              "      <td>1.000000</td>\n",
              "      <td>0.471593</td>\n",
              "      <td>0.012596</td>\n",
              "      <td>0.006240</td>\n",
              "      <td>-0.020821</td>\n",
              "      <td>NaN</td>\n",
              "      <td>0.013452</td>\n",
              "    </tr>\n",
              "    <tr>\n",
              "      <th>MaxGift</th>\n",
              "      <td>0.000276</td>\n",
              "      <td>0.039461</td>\n",
              "      <td>-0.033824</td>\n",
              "      <td>0.057719</td>\n",
              "      <td>0.140924</td>\n",
              "      <td>0.165257</td>\n",
              "      <td>0.152905</td>\n",
              "      <td>-0.226158</td>\n",
              "      <td>0.262133</td>\n",
              "      <td>-0.141068</td>\n",
              "      <td>0.984625</td>\n",
              "      <td>0.471593</td>\n",
              "      <td>1.000000</td>\n",
              "      <td>0.046827</td>\n",
              "      <td>0.018374</td>\n",
              "      <td>-0.032343</td>\n",
              "      <td>NaN</td>\n",
              "      <td>0.029789</td>\n",
              "    </tr>\n",
              "    <tr>\n",
              "      <th>GaveLastYear</th>\n",
              "      <td>0.000409</td>\n",
              "      <td>-0.011307</td>\n",
              "      <td>0.011648</td>\n",
              "      <td>0.009253</td>\n",
              "      <td>0.006976</td>\n",
              "      <td>0.175988</td>\n",
              "      <td>0.162628</td>\n",
              "      <td>-0.144498</td>\n",
              "      <td>0.174019</td>\n",
              "      <td>-0.090326</td>\n",
              "      <td>0.062446</td>\n",
              "      <td>0.012596</td>\n",
              "      <td>0.046827</td>\n",
              "      <td>1.000000</td>\n",
              "      <td>0.228017</td>\n",
              "      <td>-0.052576</td>\n",
              "      <td>NaN</td>\n",
              "      <td>0.009698</td>\n",
              "    </tr>\n",
              "    <tr>\n",
              "      <th>AmtLastYear</th>\n",
              "      <td>-0.001091</td>\n",
              "      <td>0.016610</td>\n",
              "      <td>-0.016480</td>\n",
              "      <td>0.031044</td>\n",
              "      <td>0.003274</td>\n",
              "      <td>0.045125</td>\n",
              "      <td>0.039388</td>\n",
              "      <td>-0.036033</td>\n",
              "      <td>0.042991</td>\n",
              "      <td>-0.021783</td>\n",
              "      <td>0.023536</td>\n",
              "      <td>0.006240</td>\n",
              "      <td>0.018374</td>\n",
              "      <td>0.228017</td>\n",
              "      <td>1.000000</td>\n",
              "      <td>-0.011825</td>\n",
              "      <td>NaN</td>\n",
              "      <td>0.012021</td>\n",
              "    </tr>\n",
              "    <tr>\n",
              "      <th>Contact</th>\n",
              "      <td>-0.003065</td>\n",
              "      <td>0.095114</td>\n",
              "      <td>-0.094376</td>\n",
              "      <td>-0.039594</td>\n",
              "      <td>-0.087352</td>\n",
              "      <td>-0.129571</td>\n",
              "      <td>-0.121569</td>\n",
              "      <td>0.156456</td>\n",
              "      <td>-0.137044</td>\n",
              "      <td>0.120902</td>\n",
              "      <td>-0.041552</td>\n",
              "      <td>-0.020821</td>\n",
              "      <td>-0.032343</td>\n",
              "      <td>-0.052576</td>\n",
              "      <td>-0.011825</td>\n",
              "      <td>1.000000</td>\n",
              "      <td>NaN</td>\n",
              "      <td>-0.000929</td>\n",
              "    </tr>\n",
              "    <tr>\n",
              "      <th>GaveThisYear</th>\n",
              "      <td>NaN</td>\n",
              "      <td>NaN</td>\n",
              "      <td>NaN</td>\n",
              "      <td>NaN</td>\n",
              "      <td>NaN</td>\n",
              "      <td>NaN</td>\n",
              "      <td>NaN</td>\n",
              "      <td>NaN</td>\n",
              "      <td>NaN</td>\n",
              "      <td>NaN</td>\n",
              "      <td>NaN</td>\n",
              "      <td>NaN</td>\n",
              "      <td>NaN</td>\n",
              "      <td>NaN</td>\n",
              "      <td>NaN</td>\n",
              "      <td>NaN</td>\n",
              "      <td>NaN</td>\n",
              "      <td>NaN</td>\n",
              "    </tr>\n",
              "    <tr>\n",
              "      <th>AmtThisYear</th>\n",
              "      <td>-0.000189</td>\n",
              "      <td>0.043386</td>\n",
              "      <td>-0.038916</td>\n",
              "      <td>0.067602</td>\n",
              "      <td>0.004176</td>\n",
              "      <td>0.016713</td>\n",
              "      <td>0.014993</td>\n",
              "      <td>-0.013498</td>\n",
              "      <td>0.015772</td>\n",
              "      <td>-0.006971</td>\n",
              "      <td>0.031324</td>\n",
              "      <td>0.013452</td>\n",
              "      <td>0.029789</td>\n",
              "      <td>0.009698</td>\n",
              "      <td>0.012021</td>\n",
              "      <td>-0.000929</td>\n",
              "      <td>NaN</td>\n",
              "      <td>1.000000</td>\n",
              "    </tr>\n",
              "  </tbody>\n",
              "</table>\n",
              "</div>\n",
              "      <button class=\"colab-df-convert\" onclick=\"convertToInteractive('df-36c5b6bd-ba67-431e-a167-0fa39808c937')\"\n",
              "              title=\"Convert this dataframe to an interactive table.\"\n",
              "              style=\"display:none;\">\n",
              "        \n",
              "  <svg xmlns=\"http://www.w3.org/2000/svg\" height=\"24px\"viewBox=\"0 0 24 24\"\n",
              "       width=\"24px\">\n",
              "    <path d=\"M0 0h24v24H0V0z\" fill=\"none\"/>\n",
              "    <path d=\"M18.56 5.44l.94 2.06.94-2.06 2.06-.94-2.06-.94-.94-2.06-.94 2.06-2.06.94zm-11 1L8.5 8.5l.94-2.06 2.06-.94-2.06-.94L8.5 2.5l-.94 2.06-2.06.94zm10 10l.94 2.06.94-2.06 2.06-.94-2.06-.94-.94-2.06-.94 2.06-2.06.94z\"/><path d=\"M17.41 7.96l-1.37-1.37c-.4-.4-.92-.59-1.43-.59-.52 0-1.04.2-1.43.59L10.3 9.45l-7.72 7.72c-.78.78-.78 2.05 0 2.83L4 21.41c.39.39.9.59 1.41.59.51 0 1.02-.2 1.41-.59l7.78-7.78 2.81-2.81c.8-.78.8-2.07 0-2.86zM5.41 20L4 18.59l7.72-7.72 1.47 1.35L5.41 20z\"/>\n",
              "  </svg>\n",
              "      </button>\n",
              "      \n",
              "  <style>\n",
              "    .colab-df-container {\n",
              "      display:flex;\n",
              "      flex-wrap:wrap;\n",
              "      gap: 12px;\n",
              "    }\n",
              "\n",
              "    .colab-df-convert {\n",
              "      background-color: #E8F0FE;\n",
              "      border: none;\n",
              "      border-radius: 50%;\n",
              "      cursor: pointer;\n",
              "      display: none;\n",
              "      fill: #1967D2;\n",
              "      height: 32px;\n",
              "      padding: 0 0 0 0;\n",
              "      width: 32px;\n",
              "    }\n",
              "\n",
              "    .colab-df-convert:hover {\n",
              "      background-color: #E2EBFA;\n",
              "      box-shadow: 0px 1px 2px rgba(60, 64, 67, 0.3), 0px 1px 3px 1px rgba(60, 64, 67, 0.15);\n",
              "      fill: #174EA6;\n",
              "    }\n",
              "\n",
              "    [theme=dark] .colab-df-convert {\n",
              "      background-color: #3B4455;\n",
              "      fill: #D2E3FC;\n",
              "    }\n",
              "\n",
              "    [theme=dark] .colab-df-convert:hover {\n",
              "      background-color: #434B5C;\n",
              "      box-shadow: 0px 1px 3px 1px rgba(0, 0, 0, 0.15);\n",
              "      filter: drop-shadow(0px 1px 2px rgba(0, 0, 0, 0.3));\n",
              "      fill: #FFFFFF;\n",
              "    }\n",
              "  </style>\n",
              "\n",
              "      <script>\n",
              "        const buttonEl =\n",
              "          document.querySelector('#df-36c5b6bd-ba67-431e-a167-0fa39808c937 button.colab-df-convert');\n",
              "        buttonEl.style.display =\n",
              "          google.colab.kernel.accessAllowed ? 'block' : 'none';\n",
              "\n",
              "        async function convertToInteractive(key) {\n",
              "          const element = document.querySelector('#df-36c5b6bd-ba67-431e-a167-0fa39808c937');\n",
              "          const dataTable =\n",
              "            await google.colab.kernel.invokeFunction('convertToInteractive',\n",
              "                                                     [key], {});\n",
              "          if (!dataTable) return;\n",
              "\n",
              "          const docLinkHtml = 'Like what you see? Visit the ' +\n",
              "            '<a target=\"_blank\" href=https://colab.research.google.com/notebooks/data_table.ipynb>data table notebook</a>'\n",
              "            + ' to learn more about interactive tables.';\n",
              "          element.innerHTML = '';\n",
              "          dataTable['output_type'] = 'display_data';\n",
              "          await google.colab.output.renderOutput(dataTable, element);\n",
              "          const docLink = document.createElement('div');\n",
              "          docLink.innerHTML = docLinkHtml;\n",
              "          element.appendChild(docLink);\n",
              "        }\n",
              "      </script>\n",
              "    </div>\n",
              "  </div>\n",
              "  "
            ]
          },
          "metadata": {},
          "execution_count": 36
        }
      ]
    },
    {
      "cell_type": "code",
      "source": [],
      "metadata": {
        "id": "yA8VFNapdh8r"
      },
      "id": "yA8VFNapdh8r",
      "execution_count": 36,
      "outputs": []
    },
    {
      "cell_type": "code",
      "execution_count": 37,
      "id": "3105759d",
      "metadata": {
        "id": "3105759d",
        "colab": {
          "base_uri": "https://localhost:8080/"
        },
        "outputId": "421000d9-fb18-44af-b457-e1d38176cc61"
      },
      "outputs": [
        {
          "output_type": "execute_result",
          "data": {
            "text/plain": [
              "RandomForestRegressor(max_depth=4)"
            ]
          },
          "metadata": {},
          "execution_count": 37
        }
      ],
      "source": [
        "import numpy as np\n",
        "from sklearn.model_selection import train_test_split\n",
        "train, validation = train_test_split(data_merge2, test_size=0.15,random_state=42)\n",
        "\n",
        "from sklearn.tree import DecisionTreeRegressor\n",
        "from sklearn.linear_model import LinearRegression, LogisticRegression\n",
        "from sklearn.neighbors import KNeighborsClassifier, KNeighborsRegressor\n",
        "from sklearn import metrics\n",
        "from sklearn.ensemble import RandomForestRegressor, GradientBoostingClassifier, GradientBoostingRegressor\n",
        "\n",
        "X_train = train[['Age', 'Salary','Contact','MinGift', 'GaveLastYear','AmtLastYear','Woman', 'NbActivities', 'Recency', 'Frequency','Seniority','TotalGift','MaxGift' ]] \n",
        "Y_train = train['AmtThisYear']\n",
        "X_valid = validation[['Age', 'Salary','Contact','MinGift', 'GaveLastYear','AmtLastYear','Woman', 'NbActivities', 'Recency', 'Frequency','Seniority','TotalGift','MaxGift']] \n",
        "Y_valid = validation['AmtThisYear']\n",
        "\n",
        "DT_model = RandomForestRegressor(max_depth=4)\n",
        "DT_model.fit(X_train,Y_train)"
      ]
    },
    {
      "cell_type": "code",
      "source": [
        "DT_predictTrain = DT_model.predict(X_train)\n",
        "DT_predict = DT_model.predict(X_valid)\n",
        "\n",
        "print(\"Validation:\",metrics.mean_absolute_error(Y_valid,DT_predict))\n",
        "print(\"Train:\",metrics.mean_absolute_error(Y_train,DT_predictTrain))\n",
        "print(metrics.mean_squared_error(Y_valid,DT_predict))\n",
        "print(np.sqrt(metrics.mean_squared_error(Y_valid,DT_predict)))"
      ],
      "metadata": {
        "colab": {
          "base_uri": "https://localhost:8080/"
        },
        "id": "YeBPNktaPVsD",
        "outputId": "42d724f7-fea8-4cf8-b248-40e9291a0224"
      },
      "id": "YeBPNktaPVsD",
      "execution_count": 38,
      "outputs": [
        {
          "output_type": "stream",
          "name": "stdout",
          "text": [
            "Validation: 62.46536555492047\n",
            "Train: 63.15065776199149\n",
            "50535.77835243743\n",
            "224.80164223696727\n"
          ]
        }
      ]
    },
    {
      "cell_type": "code",
      "source": [
        "data3 = sas_session.sasdata2dataframe(\n",
        "table='score',\n",
        "libref='cortex'\n",
        ")\n",
        "data4 = sas_session.sasdata2dataframe(\n",
        "table='score_rd2_contact',\n",
        "libref='cortex'\n",
        ")\n",
        "data5 = sas_session.sasdata2dataframe(\n",
        "table='score_rd2_nocontact',\n",
        "libref='cortex'\n",
        ")"
      ],
      "metadata": {
        "id": "kRklLfap3MMz"
      },
      "id": "kRklLfap3MMz",
      "execution_count": 39,
      "outputs": []
    },
    {
      "cell_type": "code",
      "source": [
        "scoring_data_contact = pd.merge(data3, data4, on=[\"ID\"],how=\"right\")\n",
        "scoring_data_contact[['MinGift' , 'Frequency','TotalGift','MaxGift']] = scoring_data_contact[['MinGift', 'Frequency','TotalGift','MaxGift']].fillna(value=0)\n",
        "scoring_data_contact[['Recency','Seniority']] = scoring_data_contact[['Recency','Seniority']].fillna(value=10)\n",
        "\n",
        "X = scoring_data_contact[['Age', 'Salary','Contact','MinGift', 'GaveLastYear','AmtLastYear','Woman', 'NbActivities', 'Recency', 'Frequency','Seniority','TotalGift','MaxGift' ]] \n",
        "X.isna().sum()\n",
        "DT_predict_contact = DT_model.predict(X)\n",
        "\n",
        "scoring_data_contact['Prediction'] = DT_predict_contact\n",
        "\n",
        "scoring_data_contact= scoring_data_contact[['ID','Prediction']]\n",
        "scoring_data_contact = scoring_data_contact.rename({'Prediction': 'AmtContact'}, axis=1) \n",
        "\n",
        "######################################################################\n",
        "\n",
        "scoring_data_nocontact = pd.merge(data3, data5, on=[\"ID\"],how=\"right\")\n",
        "scoring_data_nocontact[['MinGift' , 'Frequency','TotalGift','MaxGift']] = scoring_data_nocontact[['MinGift', 'Frequency','TotalGift','MaxGift']].fillna(value=0)\n",
        "scoring_data_nocontact[['Recency','Seniority']] = scoring_data_nocontact[['Recency','Seniority']].fillna(value=10)\n",
        "\n",
        "X = scoring_data_nocontact[['Age', 'Salary','Contact','MinGift', 'GaveLastYear','AmtLastYear','Woman', 'NbActivities', 'Recency', 'Frequency','Seniority','TotalGift','MaxGift' ]] \n",
        "\n",
        "DT_predict_nocontact=DT_model.predict(X)\n",
        "\n",
        "scoring_data_nocontact['Prediction'] = DT_predict_nocontact\n",
        "\n",
        "scoring_data_nocontact= scoring_data_nocontact[['ID','Prediction']]\n",
        "scoring_data_nocontact = scoring_data_nocontact.rename({'Prediction': 'AmtNoContact'}, axis=1) \n",
        "\n",
        "result_Amt = pd.merge(scoring_data_contact, scoring_data_nocontact, on=[\"ID\"],how=\"right\")\n",
        "result_Amt.sort_values(by=['ID'], inplace=True)\n",
        "\n",
        "result_Amt.to_csv('PREPFINAL_amt.csv', index=False)"
      ],
      "metadata": {
        "id": "g0YS2EVUmxc5"
      },
      "id": "g0YS2EVUmxc5",
      "execution_count": 40,
      "outputs": []
    },
    {
      "cell_type": "code",
      "source": [
        "from sklearn.tree import DecisionTreeClassifier\n",
        "from sklearn.tree import plot_tree\n",
        "\n",
        "\n",
        "data1 = sas_session.sasdata2dataframe(\n",
        "table='hist',\n",
        "libref='cortex'\n",
        ")\n",
        "\n",
        "data_td2 = sas_session.sasdata2dataframe(\n",
        "table='target_rd2',\n",
        "libref='cortex'\n",
        ")"
      ],
      "metadata": {
        "id": "-ZjEwDiuofDy"
      },
      "id": "-ZjEwDiuofDy",
      "execution_count": 41,
      "outputs": []
    },
    {
      "cell_type": "code",
      "source": [
        "data_merge = pd.merge(data1, data_td2, on=[\"ID\"],how=\"right\")\n",
        "data_merge[['MinGift', 'Frequency','TotalGift','MaxGift']] = data_merge[['MinGift', 'Frequency','TotalGift','MaxGift']].fillna(value=0)\n",
        "data_merge[['Recency', 'Seniority']] = data_merge[['Recency', 'Seniority']].fillna(value=10)\n",
        "data_merge.isna().sum()"
      ],
      "metadata": {
        "colab": {
          "base_uri": "https://localhost:8080/"
        },
        "id": "lgAYwzy52OaV",
        "outputId": "e2a8c2f3-8509-49c5-853f-87d16e03f8f8"
      },
      "id": "lgAYwzy52OaV",
      "execution_count": 42,
      "outputs": [
        {
          "output_type": "execute_result",
          "data": {
            "text/plain": [
              "ID               0\n",
              "LastName        23\n",
              "FirstName        4\n",
              "Woman            0\n",
              "Age              0\n",
              "Salary           0\n",
              "Education        0\n",
              "City             0\n",
              "SeniorList       0\n",
              "NbActivities     0\n",
              "Referrals        0\n",
              "Recency          0\n",
              "Frequency        0\n",
              "Seniority        0\n",
              "TotalGift        0\n",
              "MinGift          0\n",
              "MaxGift          0\n",
              "GaveLastYear     0\n",
              "AmtLastYear      0\n",
              "Contact          0\n",
              "GaveThisYear     0\n",
              "AmtThisYear      0\n",
              "dtype: int64"
            ]
          },
          "metadata": {},
          "execution_count": 42
        }
      ]
    },
    {
      "cell_type": "code",
      "source": [
        "\n",
        "train, validation = train_test_split(data_merge, test_size=0.15, random_state=42) \n",
        "\n",
        "X_train = train[['Age','Salary','MinGift','GaveLastYear','Contact','Woman', 'NbActivities', 'Recency', 'Frequency','Seniority','TotalGift','MaxGift']] \n",
        "Y_train = train['GaveThisYear']\n",
        "X_valid = validation[['Age','Salary','MinGift','GaveLastYear','Contact','Woman', 'NbActivities', 'Recency', 'Frequency','Seniority','TotalGift','MaxGift']] \n",
        "Y_valid = validation['GaveThisYear']\n",
        "\n",
        "DT_model = DecisionTreeClassifier(max_depth=4).fit(X_train,Y_train)\n",
        "DT_predict_proba = DT_model.predict_proba(X_valid) #Predictions on Testing data\n",
        "DT_predict = DT_model.predict(X_valid) #Predictions on Testing data\n",
        "# Probabilities for each class\n",
        "DT_probs = DT_model.predict_proba(X_valid)[:, 1]\n",
        "print(DT_probs)\n",
        "\n",
        "import numpy as np\n",
        "from sklearn.metrics import confusion_matrix\n",
        "from sklearn.metrics import accuracy_score\n",
        "\n",
        "confusion_matrix = confusion_matrix(Y_valid, DT_predict)\n",
        "print(confusion_matrix)\n",
        "print(accuracy_score(Y_valid, DT_predict))\n",
        "\n",
        "from sklearn.metrics import classification_report\n",
        "print(classification_report(Y_valid, DT_predict))\n",
        "\n",
        "from sklearn.metrics import roc_auc_score\n",
        "from sklearn.metrics import roc_curve\n",
        "import matplotlib.pyplot as plt \n",
        "plt.rc(\"font\", size=14)\n",
        "\n",
        "DT_roc_auc = roc_auc_score(Y_valid, DT_model.predict(X_valid))\n",
        "fpr, tpr, thresholds = roc_curve(Y_valid, DT_model.predict_proba(X_valid)[:,1])\n",
        "plt.figure()\n",
        "plt.plot(fpr, tpr, label='Decision tree (area = %0.2f)' % DT_roc_auc)\n",
        "plt.plot([0, 1], [0, 1],'r--')\n",
        "plt.xlim([0.0, 1.0])\n",
        "plt.ylim([0.0, 1.05])\n",
        "plt.xlabel('False Positive Rate')\n",
        "plt.ylabel('True Positive Rate')\n",
        "plt.title('Receiver operating characteristic')\n",
        "plt.legend(loc=\"lower right\")\n",
        "plt.savefig('DT_ROC')\n",
        "plt.show()\n"
      ],
      "metadata": {
        "colab": {
          "base_uri": "https://localhost:8080/",
          "height": 533
        },
        "id": "MYiUtpkboiSD",
        "outputId": "c5db5527-2af0-4fc4-d88a-68638823cb53"
      },
      "id": "MYiUtpkboiSD",
      "execution_count": 43,
      "outputs": [
        {
          "output_type": "stream",
          "name": "stdout",
          "text": [
            "[0.07890818 0.07884104 0.07896362 ... 0.57640241 0.1618566  0.17400022]\n",
            "[[125904   1543]\n",
            " [ 19973   2580]]\n",
            "0.85656\n",
            "              precision    recall  f1-score   support\n",
            "\n",
            "         0.0       0.86      0.99      0.92    127447\n",
            "         1.0       0.63      0.11      0.19     22553\n",
            "\n",
            "    accuracy                           0.86    150000\n",
            "   macro avg       0.74      0.55      0.56    150000\n",
            "weighted avg       0.83      0.86      0.81    150000\n",
            "\n"
          ]
        },
        {
          "output_type": "display_data",
          "data": {
            "text/plain": [
              "<Figure size 432x288 with 1 Axes>"
            ],
            "image/png": "[encoded data removed]"
          },
          "metadata": {
            "needs_background": "light"
          }
        }
      ]
    },
    {
      "cell_type": "code",
      "source": [
        "data3 = sas_session.sasdata2dataframe(\n",
        "table='score',\n",
        "libref='cortex'\n",
        ")\n",
        "data4 = sas_session.sasdata2dataframe(\n",
        "table='score_rd2_contact',\n",
        "libref='cortex'\n",
        ")\n",
        "data5 = sas_session.sasdata2dataframe(\n",
        "table='SCORE_RD2_NOCONTACT',\n",
        "libref='cortex'\n",
        ")"
      ],
      "metadata": {
        "id": "EHq_8Pzl8YtY"
      },
      "id": "EHq_8Pzl8YtY",
      "execution_count": 44,
      "outputs": []
    },
    {
      "cell_type": "code",
      "source": [
        "scoring_data_contact = pd.merge(data3, data4, on=[\"ID\"],how=\"right\")\n",
        "scoring_data_contact[['MinGift' , 'Frequency','TotalGift','MaxGift']] = scoring_data_contact[['MinGift', 'Frequency','TotalGift','MaxGift']].fillna(value=0)\n",
        "scoring_data_contact[['Recency','Seniority']] = scoring_data_contact[['Recency','Seniority']].fillna(value=10)\n",
        "\n",
        "X = scoring_data_contact[['Age','Salary','MinGift','GaveLastYear','Contact','Woman', 'NbActivities', 'Recency', 'Frequency','Seniority','TotalGift','MaxGift']] \n",
        "DT_predict_contact=DT_model.predict_proba(X)[:,1]\n",
        "scoring_data_contact['Prediction_prob'] = DT_predict_contact\n",
        "\n",
        "scoring_data_contact= scoring_data_contact[['ID','Prediction_prob']]\n",
        "scoring_data_contact = scoring_data_contact.rename({'Prediction_prob': 'ProbContact'}, axis=1) \n",
        "\n",
        "scoring_data_nocontact = pd.merge(data3, data5, on=[\"ID\"],how=\"right\")\n",
        "scoring_data_nocontact[['MinGift' , 'Frequency','TotalGift','MaxGift']] = scoring_data_nocontact[['MinGift', 'Frequency','TotalGift','MaxGift']].fillna(value=0)\n",
        "scoring_data_nocontact[['Recency','Seniority']] = scoring_data_nocontact[['Recency','Seniority']].fillna(value=10)\n",
        "\n",
        "X = scoring_data_nocontact[['Age','Salary','MinGift','GaveLastYear','Contact','Woman', 'NbActivities', 'Recency', 'Frequency','Seniority','TotalGift','MaxGift']] \n",
        "DT_predict_nocontact=DT_model.predict_proba(X)[:,1]\n",
        "scoring_data_nocontact['Prediction_prob'] = DT_predict_nocontact\n",
        "\n",
        "scoring_data_nocontact= scoring_data_nocontact[['ID','Prediction_prob']]\n",
        "scoring_data_nocontact = scoring_data_nocontact.rename({'Prediction_prob': 'ProbNoContact'}, axis=1) \n",
        "scoring_data_nocontact.head()\n",
        "\n",
        "result_Prob = pd.merge(scoring_data_contact, scoring_data_nocontact, on=[\"ID\"],how=\"right\")\n",
        "result_Prob.sort_values(by=['ID'], inplace=True)\n",
        "result_Prob.to_csv('PREPFINAL_prob.csv', index=False)"
      ],
      "metadata": {
        "id": "lvzJ07lZQCvk"
      },
      "id": "lvzJ07lZQCvk",
      "execution_count": 45,
      "outputs": []
    },
    {
      "cell_type": "code",
      "source": [
        "import pandas as pd\n",
        "\n",
        "NB = 10000\n",
        "\n",
        "probabilities = pd.read_csv(\"PREPFINAL_prob.csv\")\n",
        "amounts = pd.read_csv(\"PREPFINAL_amt.csv\")\n",
        "\n",
        "def Calc_Uplift(row):\n",
        "    return ((row['AmtContact']*row['ProbContact']) - (row['AmtNoContact']*row['ProbNoContact']*0.2))\n",
        "\n",
        "raw_submission = pd.merge(probabilities, amounts, on=[\"ID\"], how=\"right\")\n",
        "raw_submission[\"Uplift\"] = raw_submission.apply(lambda row: Calc_Uplift(row), axis=1)"
      ],
      "metadata": {
        "id": "thPCefSuuzC9"
      },
      "id": "thPCefSuuzC9",
      "execution_count": 46,
      "outputs": []
    },
    {
      "cell_type": "code",
      "source": [
        "# Sorting data by descending Uplift value\n",
        "raw_submission.sort_values(by=['Uplift'], ascending=False, inplace=True)\n",
        "\n",
        "#moreExpensiveCalls = raw_submission.loc[raw_submission['Uplift'] > 35]\n",
        "moreExpensiveCalls = raw_submission.head(1850000)"
      ],
      "metadata": {
        "id": "PPTb8YPC3dFF"
      },
      "id": "PPTb8YPC3dFF",
      "execution_count": 47,
      "outputs": []
    },
    {
      "cell_type": "code",
      "source": [
        "moreExpensiveCalls.to_csv('Round2 Output final.csv', index=False)\n",
        "\n",
        "outputOnly = moreExpensiveCalls[['ID']]\n",
        "\n",
        "outputOnly.ID = outputOnly.ID.astype(int)\n",
        "outputOnly.to_csv('FinalOutput.csv', index=False, header=False)\n",
        "\n",
        "from google.colab import files\n",
        "files.download('FinalOutput.csv')"
      ],
      "metadata": {
        "colab": {
          "base_uri": "https://localhost:8080/",
          "height": 121
        },
        "id": "c23S4sKSsEQp",
        "outputId": "65ec3c0a-eb60-4310-edcb-b87301d7c37b"
      },
      "id": "c23S4sKSsEQp",
      "execution_count": 48,
      "outputs": [
        {
          "output_type": "stream",
          "name": "stderr",
          "text": [
            "/usr/local/lib/python3.7/dist-packages/pandas/core/generic.py:5516: SettingWithCopyWarning: \n",
            "A value is trying to be set on a copy of a slice from a DataFrame.\n",
            "Try using .loc[row_indexer,col_indexer] = value instead\n",
            "\n",
            "See the caveats in the documentation: https://pandas.pydata.org/pandas-docs/stable/user_guide/indexing.html#returning-a-view-versus-a-copy\n",
            "  self[name] = value\n"
          ]
        },
        {
          "output_type": "display_data",
          "data": {
            "text/plain": [
              "<IPython.core.display.Javascript object>"
            ],
            "application/javascript": [
              "\n",
              "    async function download(id, filename, size) {\n",
              "      if (!google.colab.kernel.accessAllowed) {\n",
              "        return;\n",
              "      }\n",
              "      const div = document.createElement('div');\n",
              "      const label = document.createElement('label');\n",
              "      label.textContent = `Downloading \"${filename}\": `;\n",
              "      div.appendChild(label);\n",
              "      const progress = document.createElement('progress');\n",
              "      progress.max = size;\n",
              "      div.appendChild(progress);\n",
              "      document.body.appendChild(div);\n",
              "\n",
              "      const buffers = [];\n",
              "      let downloaded = 0;\n",
              "\n",
              "      const channel = await google.colab.kernel.comms.open(id);\n",
              "      // Send a message to notify the kernel that we're ready.\n",
              "      channel.send({})\n",
              "\n",
              "      for await (const message of channel.messages) {\n",
              "        // Send a message to notify the kernel that we're ready.\n",
              "        channel.send({})\n",
              "        if (message.buffers) {\n",
              "          for (const buffer of message.buffers) {\n",
              "            buffers.push(buffer);\n",
              "            downloaded += buffer.byteLength;\n",
              "            progress.value = downloaded;\n",
              "          }\n",
              "        }\n",
              "      }\n",
              "      const blob = new Blob(buffers, {type: 'application/binary'});\n",
              "      const a = document.createElement('a');\n",
              "      a.href = window.URL.createObjectURL(blob);\n",
              "      a.download = filename;\n",
              "      div.appendChild(a);\n",
              "      a.click();\n",
              "      div.remove();\n",
              "    }\n",
              "  "
            ]
          },
          "metadata": {}
        },
        {
          "output_type": "display_data",
          "data": {
            "text/plain": [
              "<IPython.core.display.Javascript object>"
            ],
            "application/javascript": [
              "download(\"download_2cf766eb-63bb-4d87-9934-dab62f23a767\", \"FinalOutput.csv\", 8000000)"
            ]
          },
          "metadata": {}
        }
      ]
    },
    {
      "cell_type": "code",
      "source": [],
      "metadata": {
        "id": "kn8bHMHtsExX"
      },
      "id": "kn8bHMHtsExX",
      "execution_count": 48,
      "outputs": []
    }
  ],
  "metadata": {
    "kernelspec": {
      "display_name": "Python 3",
      "language": "python",
      "name": "python3"
    },
    "language_info": {
      "codemirror_mode": {
        "name": "ipython",
        "version": 3
      },
      "file_extension": ".py",
      "mimetype": "text/x-python",
      "name": "python",
      "nbconvert_exporter": "python",
      "pygments_lexer": "ipython3",
      "version": "3.8.8"
    },
    "colab": {
      "provenance": []
    }
  },
  "nbformat": 4,
  "nbformat_minor": 5
}